{
 "cells": [
  {
   "cell_type": "markdown",
   "id": "ce5c0b6e-1e74-4732-bf8f-32777470bdb3",
   "metadata": {},
   "source": [
    "**Function 5: Yield in a Chemical Reaction**\n",
    "\n",
    "This time you are trying to optimise another four-dimensional black-box. It corresponds to the yield of a chemical process after processing in some factory. This type of process tends to be unimodal. Try to find the combination of chemicals that maximizes the yield!"
   ]
  },
  {
   "cell_type": "code",
   "execution_count": 27,
   "id": "657ce5f6-344a-4095-b0df-a89e3000850d",
   "metadata": {},
   "outputs": [],
   "source": [
    "import numpy as np\n",
    "\n",
    "from get_init_data import get_inputs, get_outputs\n",
    "\n",
    "f_num = 5\n",
    "\n",
    "X_init = get_inputs(f_num)\n",
    "y_init = get_outputs(f_num)\n",
    "# print(X_init)\n",
    "# print(y_init)"
   ]
  },
  {
   "cell_type": "code",
   "execution_count": 29,
   "id": "b04a111e-ade8-41e7-8b15-e4c633c036df",
   "metadata": {},
   "outputs": [],
   "source": [
    "from get_query_data import get_inputs, get_outputs\n",
    "\n",
    "X_q = get_inputs(f_num)\n",
    "y_q = get_outputs(f_num)\n",
    "# print(X_q)\n",
    "# print(y_q)"
   ]
  },
  {
   "cell_type": "code",
   "execution_count": 31,
   "id": "ed4f997d-6c91-4432-95a0-d5f03b2104d7",
   "metadata": {},
   "outputs": [],
   "source": [
    "from get_init_data2 import get_inputs, get_outputs\n",
    "\n",
    "X_init2 = get_inputs(f_num)\n",
    "y_init2 = get_outputs(f_num)\n",
    "# print(X_init2)\n",
    "# print(y_init2)"
   ]
  },
  {
   "cell_type": "code",
   "execution_count": 33,
   "id": "3be27ef9-1cb6-4657-ba59-faf35ac3ad62",
   "metadata": {},
   "outputs": [
    {
     "name": "stdout",
     "output_type": "stream",
     "text": [
      "(56, 4)\n",
      "Input : Output\n",
      "[0.1914470844571281 0.03819337135150802 0.6074178108720669\n",
      " 0.4145841369758819]:64.443439863301\n",
      "[0.7586529492430261 0.5365177380716337 0.6560003817255494\n",
      " 0.36034155302921755]:18.30137959857266\n",
      "[0.43834987265310876 0.8043397048222797 0.21024526639869967\n",
      " 0.15129481609432094]:0.1129397953712203\n",
      "[0.7060508340594309 0.5341919611519633 0.2642433451718953\n",
      " 0.48208754903709394]:4.210898128938665\n",
      "[0.8364779930351233 0.19360964686178006 0.6638926969585176\n",
      " 0.7856488828898288]:258.3705254462536\n",
      "[0.6834322498676915 0.11866264178849073 0.8290459096967396\n",
      " 0.5675766059352313]:78.43438888779464\n",
      "[0.553621479516824 0.6673499787364745 0.3238058191550842\n",
      " 0.8148697537245304]:57.57153693261287\n",
      "[0.35235626946595233 0.32224153197183136 0.11697936758857319\n",
      " 0.4731125215557709]:109.5718755614928\n",
      "[0.15378570594381347 0.7293816904129607 0.4225984366784806\n",
      " 0.4430741656488165]:8.847991759070865\n",
      "[0.46344226738528294 0.630024510146729 0.10790645581865044\n",
      " 0.957643898670113]:233.22361017104996\n",
      "[0.6774911484129013 0.3585095065455117 0.47959222446529515\n",
      " 0.07288048110014078]:24.423088313942344\n",
      "[0.5839734124984879 0.1472426461525712 0.34809746209352754\n",
      " 0.4286146510285499]:64.42014681963983\n",
      "[0.3068887187315784 0.3168781265532129 0.6226344812966896\n",
      " 0.09539905810631732]:63.47671578508436\n",
      "[0.5111417749497505 0.8179569972191587 0.7287104181315311\n",
      " 0.1123536230961304]:79.72912992694343\n",
      "[0.4389333758453766 0.7740917616539319 0.37816708638741714\n",
      " 0.933696206815422]:355.8068177560159\n",
      "[0.22418902330288348 0.8464804904862864 0.8794841797090803\n",
      " 0.8785156842249731]:1088.8596181962705\n",
      "[0.7252617231526987 0.47987048629522777 0.08894684260658514\n",
      " 0.7597602201100938]:28.866751637393822\n",
      "[0.35548160950061236 0.639619366711706 0.41761767886414536\n",
      " 0.12260383967133603]:45.181570346703786\n",
      "[0.11987922582428101 0.8625403059525095 0.6433313263318788\n",
      " 0.8498038287021323]:431.6127567592104\n",
      "[0.12688467007850324 0.15342962125134962 0.770162187580243\n",
      " 0.19051810509577394]:9.972331894593824\n",
      "[0.964301 0.306598 0.758164 0.118309]:377.6698305819879\n",
      "[0.964301 0.306598 0.758164 0.118309]:377.6698305819879\n",
      "[0.297493 0.25993 0.547059 0.410727]:80.36277538334303\n",
      "[0.633336 0.395855 0.633375 0.373437]:6.971411184182848\n",
      "[0.634456 0.001361 0.011562 0.523159]:37.6628248471722\n",
      "[0.634456 0.001361 0.011562 0.523159]:37.6628248471722\n",
      "[0.771329 0.066074 0.887295 0.906569]:984.0516770532071\n",
      "[0.832256 0.489961 0.719711 0.330028]:89.93178644937973\n",
      "[0.693229 0.532541 0.188885 0.687351]:4.638094705215552\n",
      "[0.826697 0.685933 0.697775 0.346034]:163.98295516387233\n",
      "[0.826697 0.685933 0.697775 0.346034]:163.98295516387233\n",
      "[0.29528 0.666747 0.122418 0.326388]:44.846851664877896\n",
      "[0.826697 0.685933 0.697775 0.346034]:163.98295516387233\n",
      "[0.016292 0.349559 0.114468 0.361519]:138.1136392868937\n",
      "[0.552704 0.013232 0.533923 0.775681]:4.197465941740017\n",
      "[0.962888 0.184125 0.197245 0.105774]:104.86157547208903\n",
      "[0.9447825135575096 0.8305092524530956 0.8322783941525403\n",
      " 0.20292204690586335]:1164.732968847308\n",
      "[0.05244809023353647 0.436148774692226 0.3784574335708253\n",
      " 0.18802639157784484]:121.18849322150346\n",
      "[0.0630480406305911 0.8663613478812554 0.8586485719825719\n",
      " 0.208575599348104]:287.52228111551625\n",
      "[0.9888207764476322 0.6638265135476311 0.3664807644969671\n",
      " 0.9962483269566188]:1980.6652436063493\n",
      "[0.7633216979193695 0.6283466730087713 0.7822297637296662\n",
      " 0.8191955810166979]:528.5214359833551\n",
      "[0.14275583637437894 0.20216246631681578 0.9386441470605823\n",
      " 0.22320333204727494]:65.90703250936055\n",
      "[0.17997632695212817 0.819483939661323 0.3643461658844521\n",
      " 0.8879661788367638]:273.9930400742788\n",
      "[0.5164539774403704 0.3949636529307692 0.9518275947127727\n",
      " 0.6988019444340525]:334.96425333974156\n",
      "[0.2684468492698139 0.49315648382222854 0.006858776079234241\n",
      " 0.7623274086432935]:3.035094215452826\n",
      "[0.39818430374213065 0.8816660622114341 0.11669989927778657\n",
      " 0.8446282057678838]:316.81144195177717\n",
      "[0.30584223457521975 0.9363661811043745 0.954016918680242 0.88360492369892]:2136.952983936292\n",
      "[0.17995478833532197 0.6948143061566799 0.787056864667963\n",
      " 0.11803764435253639]:16.392394008307374\n",
      "[0.4967526771547912 0.42376709374514987 0.6834829910848746\n",
      " 0.3062761419799407]:14.719847352582592\n",
      "[0.42326139013524366 0.5382766841578537 0.683623598480293\n",
      " 0.40884353992030265]:7.446978954940655\n",
      "[0.6395418641755347 0.9974086615104116 0.3534656109911648\n",
      " 0.6433985835943644]:540.4871457323403\n",
      "[0.9374240893178966 0.03577704966435269 0.6345086210052925\n",
      " 0.22699177145934912]:152.85440006187844\n",
      "[0.4696317695602228 0.4463734520889878 0.044604419181182964\n",
      " 0.0871202354315177]:103.38310771767337\n",
      "[0.5446870017890583 0.9533554084607506 0.3234690575245531\n",
      " 0.6126294393299304]:253.16605705649945\n",
      "[0.20733068501322027 0.3109180622293085 0.694772902847001\n",
      " 0.11411475200159316]:35.926187566753086\n",
      "[0.37937978024570607 0.7916822365523654 0.2218630309193429\n",
      " 0.005010396459697808]:2.1092588303858797\n"
     ]
    }
   ],
   "source": [
    "X = np.concatenate((X_init, X_q, X_init2), axis=0)\n",
    "y = np.concatenate((y_init, y_q, y_init2), axis=0)\n",
    "\n",
    "print(X.shape)\n",
    "print(\"Input : Output\")\n",
    "for i, v in enumerate(X):\n",
    "    print(str(v) + \":\" + str(y[i]))\n",
    "# print(\"INPUTS\")\n",
    "# print(X)\n",
    "# print(\"OUTPUTS\")\n",
    "# print(y)"
   ]
  },
  {
   "cell_type": "code",
   "execution_count": 35,
   "id": "dd73db21-8402-4465-a275-6c260fa884b1",
   "metadata": {},
   "outputs": [
    {
     "name": "stdout",
     "output_type": "stream",
     "text": [
      "============================================================\n",
      "BAYESIAN OPTIMIZATION STEP\n",
      "============================================================\n",
      "1. Computing function metrics...\n",
      "   Current best: 2136.9530\n",
      "   Dataset size: 56\n",
      "   Estimated noise: 0.0000\n",
      "\n",
      "2. Updating surrogate model...\n",
      "GP fitted with kernel: 2.92**2 * RBF(length_scale=0.537) + WhiteKernel(noise_level=1e-10)\n",
      "Log-marginal likelihood: -15.8823\n",
      "\n",
      "3. Generating 100000 candidate samples...\n",
      "4. Computing EI acquisition function...\n",
      "5. Selecting best points for submission...\n",
      "\n",
      "RECOMMENDED NEXT POINT:\n",
      "Location: [0.52939913 0.99671688 0.97219341 0.91803888]\n",
      "Acquisition: 785.5921\n",
      "GP Prediction: 2922.5416 ± 206.6900\n",
      "\n",
      "NEW RECOMMENDATION: [0.52939913 0.99671688 0.97219341 0.91803888]\n",
      "UCB Score: 785.5921\n"
     ]
    }
   ],
   "source": [
    "from ba_optimizer_v1 import BayesianOptimizer\n",
    "\n",
    "optimizer = BayesianOptimizer(np.array(X, dtype=np.float64), y, bounds=(0, 1))\n",
    "\n",
    "# Re-optimize with updated data\n",
    "new_submission = optimizer.optimize_step(\n",
    "    num_candidates=100000,\n",
    "    acquisition_func='ei'\n",
    ")\n",
    "\n",
    "print(f\"\\nNEW RECOMMENDATION: {new_submission['best_point']}\")\n",
    "print(f\"UCB Score: {new_submission['best_acquisition']:.4f}\")"
   ]
  },
  {
   "cell_type": "code",
   "execution_count": 36,
   "id": "48242cbe-aed8-42c7-889e-da6be6299c98",
   "metadata": {},
   "outputs": [
    {
     "ename": "KeyboardInterrupt",
     "evalue": "",
     "output_type": "error",
     "traceback": [
      "\u001b[0;31m---------------------------------------------------------------------------\u001b[0m",
      "\u001b[0;31mKeyboardInterrupt\u001b[0m                         Traceback (most recent call last)",
      "Cell \u001b[0;32mIn[36], line 26\u001b[0m\n\u001b[1;32m     23\u001b[0m     ei \u001b[38;5;241m=\u001b[39m (mu \u001b[38;5;241m-\u001b[39m f_best) \u001b[38;5;241m*\u001b[39m norm\u001b[38;5;241m.\u001b[39mcdf(z) \u001b[38;5;241m+\u001b[39m sigma \u001b[38;5;241m*\u001b[39m norm\u001b[38;5;241m.\u001b[39mpdf(z)\n\u001b[1;32m     24\u001b[0m     \u001b[38;5;28;01mreturn\u001b[39;00m ei\n\u001b[0;32m---> 26\u001b[0m ei_values \u001b[38;5;241m=\u001b[39m [compute_expected_improvement(x) \u001b[38;5;28;01mfor\u001b[39;00m x \u001b[38;5;129;01min\u001b[39;00m X_grid]\n\u001b[1;32m     28\u001b[0m next_idx \u001b[38;5;241m=\u001b[39m np\u001b[38;5;241m.\u001b[39margmax(ei_values)\n\u001b[1;32m     29\u001b[0m EI_NextQuery \u001b[38;5;241m=\u001b[39m X_grid[next_idx]\n",
      "Cell \u001b[0;32mIn[36], line 26\u001b[0m, in \u001b[0;36m<listcomp>\u001b[0;34m(.0)\u001b[0m\n\u001b[1;32m     23\u001b[0m     ei \u001b[38;5;241m=\u001b[39m (mu \u001b[38;5;241m-\u001b[39m f_best) \u001b[38;5;241m*\u001b[39m norm\u001b[38;5;241m.\u001b[39mcdf(z) \u001b[38;5;241m+\u001b[39m sigma \u001b[38;5;241m*\u001b[39m norm\u001b[38;5;241m.\u001b[39mpdf(z)\n\u001b[1;32m     24\u001b[0m     \u001b[38;5;28;01mreturn\u001b[39;00m ei\n\u001b[0;32m---> 26\u001b[0m ei_values \u001b[38;5;241m=\u001b[39m [compute_expected_improvement(x) \u001b[38;5;28;01mfor\u001b[39;00m x \u001b[38;5;129;01min\u001b[39;00m X_grid]\n\u001b[1;32m     28\u001b[0m next_idx \u001b[38;5;241m=\u001b[39m np\u001b[38;5;241m.\u001b[39margmax(ei_values)\n\u001b[1;32m     29\u001b[0m EI_NextQuery \u001b[38;5;241m=\u001b[39m X_grid[next_idx]\n",
      "Cell \u001b[0;32mIn[36], line 19\u001b[0m, in \u001b[0;36mcompute_expected_improvement\u001b[0;34m(x)\u001b[0m\n\u001b[1;32m     18\u001b[0m \u001b[38;5;28;01mdef\u001b[39;00m \u001b[38;5;21mcompute_expected_improvement\u001b[39m(x):\n\u001b[0;32m---> 19\u001b[0m     mu, sigma \u001b[38;5;241m=\u001b[39m gpr\u001b[38;5;241m.\u001b[39mpredict([x], return_std\u001b[38;5;241m=\u001b[39m\u001b[38;5;28;01mTrue\u001b[39;00m)\n\u001b[1;32m     20\u001b[0m     f_best \u001b[38;5;241m=\u001b[39m np\u001b[38;5;241m.\u001b[39mmax(y)\n\u001b[1;32m     21\u001b[0m     sigma \u001b[38;5;241m=\u001b[39m sigma \u001b[38;5;241m+\u001b[39m \u001b[38;5;241m1e-9\u001b[39m\n",
      "File \u001b[0;32m~/anaconda3/lib/python3.11/site-packages/sklearn/gaussian_process/_gpr.py:440\u001b[0m, in \u001b[0;36mGaussianProcessRegressor.predict\u001b[0;34m(self, X, return_std, return_cov)\u001b[0m\n\u001b[1;32m    437\u001b[0m         \u001b[38;5;28;01mreturn\u001b[39;00m y_mean\n\u001b[1;32m    438\u001b[0m \u001b[38;5;28;01melse\u001b[39;00m:  \u001b[38;5;66;03m# Predict based on GP posterior\u001b[39;00m\n\u001b[1;32m    439\u001b[0m     \u001b[38;5;66;03m# Alg 2.1, page 19, line 4 -> f*_bar = K(X_test, X_train) . alpha\u001b[39;00m\n\u001b[0;32m--> 440\u001b[0m     K_trans \u001b[38;5;241m=\u001b[39m \u001b[38;5;28mself\u001b[39m\u001b[38;5;241m.\u001b[39mkernel_(X, \u001b[38;5;28mself\u001b[39m\u001b[38;5;241m.\u001b[39mX_train_)\n\u001b[1;32m    441\u001b[0m     y_mean \u001b[38;5;241m=\u001b[39m K_trans \u001b[38;5;241m@\u001b[39m \u001b[38;5;28mself\u001b[39m\u001b[38;5;241m.\u001b[39malpha_\n\u001b[1;32m    443\u001b[0m     \u001b[38;5;66;03m# undo normalisation\u001b[39;00m\n",
      "File \u001b[0;32m~/anaconda3/lib/python3.11/site-packages/sklearn/gaussian_process/kernels.py:968\u001b[0m, in \u001b[0;36mProduct.__call__\u001b[0;34m(self, X, Y, eval_gradient)\u001b[0m\n\u001b[1;32m    964\u001b[0m     \u001b[38;5;28;01mreturn\u001b[39;00m K1 \u001b[38;5;241m*\u001b[39m K2, np\u001b[38;5;241m.\u001b[39mdstack(\n\u001b[1;32m    965\u001b[0m         (K1_gradient \u001b[38;5;241m*\u001b[39m K2[:, :, np\u001b[38;5;241m.\u001b[39mnewaxis], K2_gradient \u001b[38;5;241m*\u001b[39m K1[:, :, np\u001b[38;5;241m.\u001b[39mnewaxis])\n\u001b[1;32m    966\u001b[0m     )\n\u001b[1;32m    967\u001b[0m \u001b[38;5;28;01melse\u001b[39;00m:\n\u001b[0;32m--> 968\u001b[0m     \u001b[38;5;28;01mreturn\u001b[39;00m \u001b[38;5;28mself\u001b[39m\u001b[38;5;241m.\u001b[39mk1(X, Y) \u001b[38;5;241m*\u001b[39m \u001b[38;5;28mself\u001b[39m\u001b[38;5;241m.\u001b[39mk2(X, Y)\n",
      "File \u001b[0;32m~/anaconda3/lib/python3.11/site-packages/sklearn/gaussian_process/kernels.py:1735\u001b[0m, in \u001b[0;36mMatern.__call__\u001b[0;34m(self, X, Y, eval_gradient)\u001b[0m\n\u001b[1;32m   1733\u001b[0m     K\u001b[38;5;241m.\u001b[39mfill((\u001b[38;5;241m2\u001b[39m \u001b[38;5;241m*\u001b[39m\u001b[38;5;241m*\u001b[39m (\u001b[38;5;241m1.0\u001b[39m \u001b[38;5;241m-\u001b[39m \u001b[38;5;28mself\u001b[39m\u001b[38;5;241m.\u001b[39mnu)) \u001b[38;5;241m/\u001b[39m gamma(\u001b[38;5;28mself\u001b[39m\u001b[38;5;241m.\u001b[39mnu))\n\u001b[1;32m   1734\u001b[0m     K \u001b[38;5;241m*\u001b[39m\u001b[38;5;241m=\u001b[39m tmp\u001b[38;5;241m*\u001b[39m\u001b[38;5;241m*\u001b[39m\u001b[38;5;28mself\u001b[39m\u001b[38;5;241m.\u001b[39mnu\n\u001b[0;32m-> 1735\u001b[0m     K \u001b[38;5;241m*\u001b[39m\u001b[38;5;241m=\u001b[39m kv(\u001b[38;5;28mself\u001b[39m\u001b[38;5;241m.\u001b[39mnu, tmp)\n\u001b[1;32m   1737\u001b[0m \u001b[38;5;28;01mif\u001b[39;00m Y \u001b[38;5;129;01mis\u001b[39;00m \u001b[38;5;28;01mNone\u001b[39;00m:\n\u001b[1;32m   1738\u001b[0m     \u001b[38;5;66;03m# convert from upper-triangular matrix to square matrix\u001b[39;00m\n\u001b[1;32m   1739\u001b[0m     K \u001b[38;5;241m=\u001b[39m squareform(K)\n",
      "\u001b[0;31mKeyboardInterrupt\u001b[0m: "
     ]
    }
   ],
   "source": [
    "import numpy as np\n",
    "from sklearn.gaussian_process import GaussianProcessRegressor\n",
    "from sklearn.gaussian_process.kernels import RBF, ConstantKernel, Matern\n",
    "from scipy.stats import norm\n",
    "\n",
    "\n",
    "kernel_matern = ConstantKernel(1.0, (1e-3, 1e3)) * Matern(length_scale=1.0, nu=2)\n",
    "\n",
    "gpr = GaussianProcessRegressor(kernel=kernel_matern, n_restarts_optimizer=11)\n",
    "\n",
    "gpr.fit(X, y)\n",
    "\n",
    "x_range = np.linspace(0, 1, 50)\n",
    "dim = 4\n",
    "X_grid = np.meshgrid(*([x_range] * dim))\n",
    "X_grid = np.stack(X_grid, axis=-1).reshape(-1, dim)\n",
    "\n",
    "def compute_expected_improvement(x):\n",
    "    mu, sigma = gpr.predict([x], return_std=True)\n",
    "    f_best = np.max(y)\n",
    "    sigma = sigma + 1e-9\n",
    "    z = (mu - f_best) / sigma\n",
    "    ei = (mu - f_best) * norm.cdf(z) + sigma * norm.pdf(z)\n",
    "    return ei\n",
    "\n",
    "ei_values = [compute_expected_improvement(x) for x in X_grid]\n",
    "\n",
    "next_idx = np.argmax(ei_values)\n",
    "EI_NextQuery = X_grid[next_idx]\n",
    "\n",
    "print(\"Expected Improvement - Next Query: \", EI_NextQuery)"
   ]
  },
  {
   "cell_type": "code",
   "execution_count": 43,
   "id": "0737a6f3-809f-4d18-bf04-231edbe13fe0",
   "metadata": {},
   "outputs": [
    {
     "name": "stdout",
     "output_type": "stream",
     "text": [
      "============================================================\n",
      "BAYESIAN OPTIMIZATION STEP\n",
      "============================================================\n",
      "1. Computing function metrics...\n",
      "   Current best: 2136.9530\n",
      "   Dataset size: 56\n",
      "   Estimated noise: 0.0000\n",
      "\n",
      "2. Updating surrogate model...\n",
      "GP fitted with kernel: 2.92**2 * RBF(length_scale=0.537)\n",
      "Log-marginal likelihood: -14.4960\n",
      "\n",
      "3. Generating 10000 candidate samples...\n",
      "4. Computing UCB acquisition function...\n",
      "5. Selecting best points for submission...\n",
      "\n",
      "RECOMMENDED NEXT POINT:\n",
      "Location: [0.42211669 0.98810951 0.99698722 0.97781522]\n",
      "Acquisition: 3103.7963\n",
      "GP Prediction: 2932.5284 ± 171.2679\n",
      "\n",
      " optimizer_v2 NEW RECOMMENDATION: [0.42211669 0.98810951 0.99698722 0.97781522]\n",
      "optimizer_v2 UCB Score: 3103.7963\n"
     ]
    }
   ],
   "source": [
    "from ba_optimizer_v2 import BayesianOptimizer as BayesianOptimizer_v2\n",
    "from sklearn.gaussian_process.kernels import Matern, ConstantKernel, WhiteKernel\n",
    "\n",
    "X = np.array(X, dtype=np.float64)\n",
    "\n",
    "optimizer_v2 = BayesianOptimizer_v2(X, y, bounds=(0, 1))\n",
    "\n",
    "kernel = ConstantKernel(1.0, (1e-3, 1e3)) * RBF(length_scale=0.1)\n",
    "new_submission = optimizer_v2.optimize_step(\n",
    "    num_candidates=10000,\n",
    "    acquisition_func='ucb',\n",
    "    kappa=1.0, kernel=kernel\n",
    ")\n",
    "\n",
    "print(f\"\\n optimizer_v2 NEW RECOMMENDATION: {new_submission['best_point']}\")\n",
    "print(f\"optimizer_v2 UCB Score: {new_submission['best_acquisition']:.4f}\")"
   ]
  },
  {
   "cell_type": "markdown",
   "id": "4c4955a4-5d8f-4b86-86f8-07b2b0974cc1",
   "metadata": {},
   "source": [
    "# Calcualting after 27 May outputs"
   ]
  },
  {
   "cell_type": "code",
   "execution_count": 46,
   "id": "b381d033-0b1f-4a8e-8728-3825a7a7aaec",
   "metadata": {},
   "outputs": [
    {
     "name": "stdout",
     "output_type": "stream",
     "text": [
      "y_max is  2159.8134893786996 at:  [0.306122 0.938775 0.959183 0.877551]\n"
     ]
    }
   ],
   "source": [
    "input_may_27 = np.array([0.306122, 0.938775, 0.959183, 0.877551])\n",
    "output_may_27 = np.float64(2159.8134893786996)\n",
    "\n",
    "X = np.append(X, np.array([input_may_27], dtype=np.float64), axis=0)\n",
    "y = np.append(y, 2159.8134893786996)\n",
    "\n",
    "y_max = np.max(y)\n",
    "print(\"y_max is \", y_max, \"at: \", X[np.where(y == y_max)][0])"
   ]
  },
  {
   "cell_type": "code",
   "execution_count": 48,
   "id": "483e7c74-cf6c-422f-9abf-f679d49e0367",
   "metadata": {},
   "outputs": [
    {
     "name": "stdout",
     "output_type": "stream",
     "text": [
      "============================================================\n",
      "BAYESIAN OPTIMIZATION STEP\n",
      "============================================================\n",
      "1. Computing function metrics...\n",
      "   Current best: 2159.8135\n",
      "   Dataset size: 57\n",
      "   Estimated noise: 8.5196\n",
      "\n",
      "2. Updating surrogate model...\n",
      "GP fitted with kernel: 2.45**2 * RBF(length_scale=0.529)\n",
      "Log-marginal likelihood: -4.3352\n",
      "\n",
      "3. Generating 10000 candidate samples...\n",
      "4. Computing EI acquisition function...\n",
      "5. Selecting best points for submission...\n",
      "\n",
      "RECOMMENDED NEXT POINT:\n",
      "Location: [0.42211669 0.98810951 0.99698722 0.97781522]\n",
      "Acquisition: 866.4380\n",
      "GP Prediction: 3026.2515 ± 124.7177\n"
     ]
    },
    {
     "data": {
      "text/plain": [
       "{'best_point': array([0.42211669, 0.98810951, 0.99698722, 0.97781522]),\n",
       " 'best_acquisition': 866.4380160148993,\n",
       " 'top_k_points': array([[0.42211669, 0.98810951, 0.99698722, 0.97781522],\n",
       "        [0.71806054, 0.9629012 , 0.88571201, 0.99231794],\n",
       "        [0.57029109, 0.95237751, 0.88757495, 0.97826588],\n",
       "        [0.61383853, 0.96862765, 0.88052615, 0.95021107],\n",
       "        [0.61462083, 0.97870227, 0.97383995, 0.801712  ]]),\n",
       " 'top_k_acquisitions': array([866.43801601, 447.46940964, 418.51946142, 416.41821829,\n",
       "        358.20952114]),\n",
       " 'gp_predictions': (array([3026.25150539, 2591.9525082 , 2576.85796068, 2572.39133317,\n",
       "         2506.89023345]),\n",
       "  array([124.7177194 , 333.55639754, 202.73030094, 236.0740879 ,\n",
       "         260.89784638])),\n",
       " 'current_best_observed': 2159.8134893786996,\n",
       " 'current_best_point': array([0.306122, 0.938775, 0.959183, 0.877551])}"
      ]
     },
     "execution_count": 48,
     "metadata": {},
     "output_type": "execute_result"
    }
   ],
   "source": [
    "\n",
    "optimizer_v2 = BayesianOptimizer_v2(X, y, bounds=(0, 1))\n",
    "kernel_matern = ConstantKernel(1.0, (1e-3, 1e3)) * Matern(length_scale=1.0, nu=2)\n",
    "\n",
    "optimizer_v2.optimize_step(\n",
    "    num_candidates=10000,\n",
    "    acquisition_func='ei',\n",
    "    kernel=kernel)"
   ]
  },
  {
   "cell_type": "code",
   "execution_count": 50,
   "id": "ebd6fc98-de8b-4536-b747-6d18a135e9ad",
   "metadata": {},
   "outputs": [
    {
     "name": "stdout",
     "output_type": "stream",
     "text": [
      "Expected Improvement - Next Query:  [0.30612245 0.93877551 0.97959184 0.87755102]\n"
     ]
    }
   ],
   "source": [
    "import numpy as np\n",
    "from sklearn.gaussian_process import GaussianProcessRegressor\n",
    "from sklearn.gaussian_process.kernels import RBF, ConstantKernel, Matern\n",
    "from scipy.stats import norm\n",
    "\n",
    "\n",
    "kernel_matern = ConstantKernel(1.0, (1e-3, 1e3)) * Matern(length_scale=1.0, nu=2)\n",
    "\n",
    "gpr = GaussianProcessRegressor(kernel=kernel_matern, n_restarts_optimizer=11)\n",
    "\n",
    "gpr.fit(X, y)\n",
    "\n",
    "x_range = np.linspace(0, 1, 50)\n",
    "dim = 4\n",
    "X_grid = np.meshgrid(*([x_range] * dim))\n",
    "X_grid = np.stack(X_grid, axis=-1).reshape(-1, dim)\n",
    "\n",
    "def compute_expected_improvement(x):\n",
    "    mu, sigma = gpr.predict([x], return_std=True)\n",
    "    f_best = np.max(y)\n",
    "    z = (mu - f_best) / sigma\n",
    "    ei = (mu - f_best) * norm.cdf(z) + sigma * norm.pdf(z)\n",
    "    return ei\n",
    "\n",
    "ei_values = [compute_expected_improvement(x) for x in X_grid]\n",
    "\n",
    "next_idx = np.argmax(ei_values)\n",
    "EI_NextQuery = X_grid[next_idx]\n",
    "\n",
    "print(\"Expected Improvement - Next Query: \", EI_NextQuery)"
   ]
  },
  {
   "cell_type": "markdown",
   "id": "adfa10f9-0f3d-457c-bae5-ba5e9f119012",
   "metadata": {},
   "source": [
    "# Calcualting after 2 Jun outputs"
   ]
  },
  {
   "cell_type": "code",
   "execution_count": 52,
   "id": "b881c700-11f1-49a2-ad7c-a99cb0210acd",
   "metadata": {},
   "outputs": [
    {
     "name": "stdout",
     "output_type": "stream",
     "text": [
      "Max y is  2343.5512714176116 at:  [0.306122 0.938775 0.979591 0.877551]\n"
     ]
    }
   ],
   "source": [
    "\n",
    "input_jun_2 = np.array([0.306122, 0.938775, 0.979591, 0.877551])\n",
    "output_jun_2 = np.float64(2343.5512714176116)\n",
    "\n",
    "X = np.append(X, np.array([input_jun_2], dtype=np.float64), axis=0)\n",
    "y = np.append(y, output_jun_2)\n",
    "\n",
    "y_max = np.max(y)\n",
    "print(\"Max y is \", y_max, \"at: \", X[np.where(y == y_max)][0])"
   ]
  },
  {
   "cell_type": "code",
   "execution_count": 54,
   "id": "616efba6-845e-435f-8300-2204c6131596",
   "metadata": {},
   "outputs": [
    {
     "name": "stdout",
     "output_type": "stream",
     "text": [
      "Expected Improvement - Next Query:  [0.34693878 0.95918367 0.95918367 0.85714286]\n"
     ]
    }
   ],
   "source": [
    "ei_values = [compute_expected_improvement(x) for x in X_grid]\n",
    "\n",
    "next_idx = np.argmax(ei_values)\n",
    "EI_NextQuery = X_grid[next_idx]\n",
    "\n",
    "print(\"Expected Improvement - Next Query: \", EI_NextQuery)"
   ]
  },
  {
   "cell_type": "code",
   "execution_count": null,
   "id": "af7a503e-5842-4d7f-b2ae-16d396d4daf0",
   "metadata": {},
   "outputs": [],
   "source": []
  },
  {
   "cell_type": "code",
   "execution_count": null,
   "id": "a1c1f47e-7de6-42d0-9860-e1ec0a0abe61",
   "metadata": {},
   "outputs": [],
   "source": []
  }
 ],
 "metadata": {
  "kernelspec": {
   "display_name": "Python [conda env:anaconda3] *",
   "language": "python",
   "name": "conda-env-anaconda3-py"
  },
  "language_info": {
   "codemirror_mode": {
    "name": "ipython",
    "version": 3
   },
   "file_extension": ".py",
   "mimetype": "text/x-python",
   "name": "python",
   "nbconvert_exporter": "python",
   "pygments_lexer": "ipython3",
   "version": "3.11.5"
  }
 },
 "nbformat": 4,
 "nbformat_minor": 5
}
